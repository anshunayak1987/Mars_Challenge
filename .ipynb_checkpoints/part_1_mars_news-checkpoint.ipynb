{
 "cells": [
  {
   "cell_type": "markdown",
   "metadata": {},
   "source": [
    "# Module 12 Challenge\n",
    "## Deliverable 1: Scrape Titles and Preview Text from Mars News"
   ]
  },
  {
   "cell_type": "code",
   "execution_count": 1,
   "metadata": {},
   "outputs": [],
   "source": [
    "# Import Splinter and BeautifulSoup\n",
    "import pandas as pd\n",
    "from splinter import Browser\n",
    "from bs4 import BeautifulSoup as soup\n",
    "from webdriver_manager.chrome import ChromeDriverManager"
   ]
  },
  {
   "cell_type": "code",
   "execution_count": 2,
   "metadata": {
    "scrolled": true
   },
   "outputs": [],
   "source": [
    "executable_path = {'executable_path': ChromeDriverManager().install()}\n",
    "browser = Browser('chrome', **executable_path, headless=False)"
   ]
  },
  {
   "cell_type": "markdown",
   "metadata": {},
   "source": [
    "### Step 1: Visit the Website\n",
    "\n",
    "1. Use automated browsing to visit the [Mars NASA news site](https://redplanetscience.com). Inspect the page to identify which elements to scrape.\n",
    "\n",
    "      > **Hint** To identify which elements to scrape, you might want to inspect the page by using Chrome DevTools."
   ]
  },
  {
   "cell_type": "code",
   "execution_count": 3,
   "metadata": {},
   "outputs": [],
   "source": [
    "# Visit the Mars NASA news site: https://redplanetscience.com\n",
    "url = 'https://redplanetscience.com'\n",
    "browser.visit(url)"
   ]
  },
  {
   "cell_type": "markdown",
   "metadata": {},
   "source": [
    "### Step 2: Scrape the Website\n",
    "\n",
    "Create a Beautiful Soup object and use it to extract text elements from the website."
   ]
  },
  {
   "cell_type": "code",
   "execution_count": 4,
   "metadata": {},
   "outputs": [],
   "source": [
    "# Create a Beautiful Soup object\n",
    "html = browser.html\n",
    "soup_ = soup(html, \"html.parser\")\n",
    "\n",
    "#latest_news = soup_.find_all(\"div\", class_=\"content_title\")[0]\n",
    "latest_news = soup_.find_all(\"div\", class_=\"content_title\")\n"
   ]
  },
  {
   "cell_type": "code",
   "execution_count": 5,
   "metadata": {},
   "outputs": [],
   "source": [
    "# Extract all the text elements\n",
    "#latest_news_title = latest_news.text\n",
    "#latest_news_title"
   ]
  },
  {
   "cell_type": "code",
   "execution_count": 6,
   "metadata": {},
   "outputs": [],
   "source": [
    "#paragraph = soup_.find_all(\"div\", class_=\"article_teaser_body\")[0]\n",
    "paragraph = soup_.find_all(\"div\", class_=\"article_teaser_body\")\n",
    "#latest_news_paragraph = paragraph.text\n",
    "#latest_news_paragraph"
   ]
  },
  {
   "cell_type": "markdown",
   "metadata": {},
   "source": [
    "### Step 3: Store the Results\n",
    "\n",
    "Extract the titles and preview text of the news articles that you scraped. Store the scraping results in Python data structures as follows:\n",
    "\n",
    "* Store each title-and-preview pair in a Python dictionary. And, give each dictionary two keys: `title` and `preview`. An example is the following:\n",
    "\n",
    "  ```python\n",
    "  {'title': \"Mars Rover Begins Mission!\", \n",
    "        'preview': \"NASA's Mars Rover begins a multiyear mission to collect data about the little-explored planet.\"}\n",
    "  ```\n",
    "\n",
    "* Store all the dictionaries in a Python list.\n",
    "\n",
    "* Print the list in your notebook."
   ]
  },
  {
   "cell_type": "code",
   "execution_count": 7,
   "metadata": {},
   "outputs": [],
   "source": [
    "# Create an empty list to store the dictionaries\n",
    "title_list = []\n",
    "\n"
   ]
  },
  {
   "cell_type": "code",
   "execution_count": 8,
   "metadata": {},
   "outputs": [],
   "source": [
    "#creating list of paragraph\n",
    "paragraph_list = []\n"
   ]
  },
  {
   "cell_type": "code",
   "execution_count": 9,
   "metadata": {},
   "outputs": [],
   "source": [
    "# Loop through the text elements\n",
    "# Extract the title and preview text from the elements\n",
    "# Store each title and preview pair in a dictionary\n",
    "# Add the dictionary to the list\n",
    "for title in latest_news:\n",
    "    title_list.append(title.text)\n",
    "    #print(title.text)\n",
    "\n",
    "\n",
    "for para in paragraph:\n",
    "    paragraph_list.append(para.text)\n",
    "    #print(para.text)\n",
    "\n",
    "\n"
   ]
  },
  {
   "cell_type": "markdown",
   "metadata": {},
   "source": [
    "# creating and printing list of dictonaries"
   ]
  },
  {
   "cell_type": "code",
   "execution_count": 10,
   "metadata": {},
   "outputs": [
    {
     "data": {
      "text/plain": [
       "[{'title': \"Nine Finalists Chosen in NASA's Mars 2020 Rover Naming Contest\",\n",
       "  'preview': \"Nine finalists have been chosen in the essay contest for K-12 students across U.S. to name NASA's next Mars rover. Now you can help by voting for your favorite. \"},\n",
       " {'title': \"A Martian Roundtrip: NASA's Perseverance Rover Sample Tubes\",\n",
       "  'preview': \"Marvels of engineering, the rover's sample tubes must be tough enough to safely bring Red Planet samples on the long journey back to Earth in immaculate condition. \"},\n",
       " {'title': \"NASA InSight's 'Mole' Is Out of Sight\",\n",
       "  'preview': \"Now that the heat probe is just below the Martian surface, InSight's arm will scoop some additional soil on top to help it keep digging so it can take Mars' temperature.\"},\n",
       " {'title': \"NASA's Mars Perseverance Rover Passes Flight Readiness Review\",\n",
       "  'preview': \"\\u200bThe agency's Mars 2020 mission has one more big prelaunch review – the Launch Readiness Review, on July 27.\"},\n",
       " {'title': \"Virginia Middle School Student Earns Honor of Naming NASA's Next Mars Rover\",\n",
       "  'preview': 'NASA chose a seventh-grader from Virginia as winner of the agency\\'s \"Name the Rover\" essay contest. Alexander Mather\\'s entry for \"Perseverance\" was voted tops among 28,000 entries. '},\n",
       " {'title': \"NASA's MAVEN Explores Mars to Understand Radio Interference at Earth\",\n",
       "  'preview': 'NASA’s MAVEN spacecraft has discovered “layers” and “rifts” in the electrically charged part of the upper atmosphere of Mars.'},\n",
       " {'title': '7 Things to Know About the Mars 2020 Perseverance Rover Mission',\n",
       "  'preview': \"NASA's next rover to the Red Planet is slated to launch no earlier than July 30. These highlights will get you up to speed on the ambitious mission.\"},\n",
       " {'title': \"NASA Engineers Checking InSight's Weather Sensors\",\n",
       "  'preview': 'An electronics issue is suspected to be preventing the sensors from sharing their data about Mars weather with the spacecraft.'},\n",
       " {'title': \"Deadline Closing for Names to Fly on NASA's Next Mars Rover\",\n",
       "  'preview': 'You have until Sept. 30 to send your names to Mars aboard the Mars 2020 rover. '},\n",
       " {'title': 'NASA Administrator Statement on Moon to Mars Initiative, FY 2021 Budget',\n",
       "  'preview': \"Jim Bridenstine addresses NASA's ambitious plans for the coming years, including Mars Sample Return.\"},\n",
       " {'title': \"NASA-JPL Names 'Rolling Stones Rock' on Mars\",\n",
       "  'preview': \"NASA's Mars InSight mission honored one of the biggest bands of all time at Pasadena concert.\"},\n",
       " {'title': \"Media Get a Close-Up of NASA's Mars 2020 Rover\",\n",
       "  'preview': \"The clean room at NASA's Jet Propulsion Laboratory was open to the media to see NASA's next Mars explorer before it leaves for Florida in preparation for a summertime launch.\"},\n",
       " {'title': \"From JPL's Mailroom to Mars and Beyond\",\n",
       "  'preview': 'Bill Allen has thrived as the mechanical systems design lead for three Mars rover missions, but he got his start as a teenager sorting letters for the NASA center.'},\n",
       " {'title': 'NASA Updates Mars 2020 Mission Environmental Review',\n",
       "  'preview': 'NASA and the Department of Energy have completed a more detailed risk analysis for the Mars 2020 rover launch from Florida.'},\n",
       " {'title': \"NASA's Briefcase-Size MarCO Satellite Picks Up Honors\",\n",
       "  'preview': 'The twin spacecraft, the first of their kind to fly into deep space, earn a Laureate from Aviation Week & Space Technology.'}]"
      ]
     },
     "execution_count": 10,
     "metadata": {},
     "output_type": "execute_result"
    }
   ],
   "source": [
    "list_dict = []\n",
    "for i in range(len(title_list)):\n",
    "    dict_ ={'title': title_list[i],\n",
    "          'preview': paragraph_list[i]}\n",
    "    list_dict.append(dict_)\n",
    "list_dict"
   ]
  },
  {
   "cell_type": "markdown",
   "metadata": {},
   "source": [
    "# printing list and dictonary"
   ]
  },
  {
   "cell_type": "code",
   "execution_count": 11,
   "metadata": {},
   "outputs": [
    {
     "name": "stdout",
     "output_type": "stream",
     "text": [
      "\n",
      "\n",
      "printing title\n",
      "\n",
      "\n",
      "[\"Nine Finalists Chosen in NASA's Mars 2020 Rover Naming Contest\", \"A Martian Roundtrip: NASA's Perseverance Rover Sample Tubes\", \"NASA InSight's 'Mole' Is Out of Sight\", \"NASA's Mars Perseverance Rover Passes Flight Readiness Review\", \"Virginia Middle School Student Earns Honor of Naming NASA's Next Mars Rover\", \"NASA's MAVEN Explores Mars to Understand Radio Interference at Earth\", '7 Things to Know About the Mars 2020 Perseverance Rover Mission', \"NASA Engineers Checking InSight's Weather Sensors\", \"Deadline Closing for Names to Fly on NASA's Next Mars Rover\", 'NASA Administrator Statement on Moon to Mars Initiative, FY 2021 Budget', \"NASA-JPL Names 'Rolling Stones Rock' on Mars\", \"Media Get a Close-Up of NASA's Mars 2020 Rover\", \"From JPL's Mailroom to Mars and Beyond\", 'NASA Updates Mars 2020 Mission Environmental Review', \"NASA's Briefcase-Size MarCO Satellite Picks Up Honors\"]\n",
      "\n",
      "\n",
      "printing paragraph\n",
      "\n",
      "\n",
      "[\"Nine finalists have been chosen in the essay contest for K-12 students across U.S. to name NASA's next Mars rover. Now you can help by voting for your favorite. \", \"Marvels of engineering, the rover's sample tubes must be tough enough to safely bring Red Planet samples on the long journey back to Earth in immaculate condition. \", \"Now that the heat probe is just below the Martian surface, InSight's arm will scoop some additional soil on top to help it keep digging so it can take Mars' temperature.\", \"\\u200bThe agency's Mars 2020 mission has one more big prelaunch review – the Launch Readiness Review, on July 27.\", 'NASA chose a seventh-grader from Virginia as winner of the agency\\'s \"Name the Rover\" essay contest. Alexander Mather\\'s entry for \"Perseverance\" was voted tops among 28,000 entries. ', 'NASA’s MAVEN spacecraft has discovered “layers” and “rifts” in the electrically charged part of the upper atmosphere of Mars.', \"NASA's next rover to the Red Planet is slated to launch no earlier than July 30. These highlights will get you up to speed on the ambitious mission.\", 'An electronics issue is suspected to be preventing the sensors from sharing their data about Mars weather with the spacecraft.', 'You have until Sept. 30 to send your names to Mars aboard the Mars 2020 rover. ', \"Jim Bridenstine addresses NASA's ambitious plans for the coming years, including Mars Sample Return.\", \"NASA's Mars InSight mission honored one of the biggest bands of all time at Pasadena concert.\", \"The clean room at NASA's Jet Propulsion Laboratory was open to the media to see NASA's next Mars explorer before it leaves for Florida in preparation for a summertime launch.\", 'Bill Allen has thrived as the mechanical systems design lead for three Mars rover missions, but he got his start as a teenager sorting letters for the NASA center.', 'NASA and the Department of Energy have completed a more detailed risk analysis for the Mars 2020 rover launch from Florida.', 'The twin spacecraft, the first of their kind to fly into deep space, earn a Laureate from Aviation Week & Space Technology.']\n",
      "\n",
      "\n",
      "printing dictonary\n",
      "\n",
      "\n",
      "{'title': [\"Nine Finalists Chosen in NASA's Mars 2020 Rover Naming Contest\", \"A Martian Roundtrip: NASA's Perseverance Rover Sample Tubes\", \"NASA InSight's 'Mole' Is Out of Sight\", \"NASA's Mars Perseverance Rover Passes Flight Readiness Review\", \"Virginia Middle School Student Earns Honor of Naming NASA's Next Mars Rover\", \"NASA's MAVEN Explores Mars to Understand Radio Interference at Earth\", '7 Things to Know About the Mars 2020 Perseverance Rover Mission', \"NASA Engineers Checking InSight's Weather Sensors\", \"Deadline Closing for Names to Fly on NASA's Next Mars Rover\", 'NASA Administrator Statement on Moon to Mars Initiative, FY 2021 Budget', \"NASA-JPL Names 'Rolling Stones Rock' on Mars\", \"Media Get a Close-Up of NASA's Mars 2020 Rover\", \"From JPL's Mailroom to Mars and Beyond\", 'NASA Updates Mars 2020 Mission Environmental Review', \"NASA's Briefcase-Size MarCO Satellite Picks Up Honors\"], 'preview': [\"Nine finalists have been chosen in the essay contest for K-12 students across U.S. to name NASA's next Mars rover. Now you can help by voting for your favorite. \", \"Marvels of engineering, the rover's sample tubes must be tough enough to safely bring Red Planet samples on the long journey back to Earth in immaculate condition. \", \"Now that the heat probe is just below the Martian surface, InSight's arm will scoop some additional soil on top to help it keep digging so it can take Mars' temperature.\", \"\\u200bThe agency's Mars 2020 mission has one more big prelaunch review – the Launch Readiness Review, on July 27.\", 'NASA chose a seventh-grader from Virginia as winner of the agency\\'s \"Name the Rover\" essay contest. Alexander Mather\\'s entry for \"Perseverance\" was voted tops among 28,000 entries. ', 'NASA’s MAVEN spacecraft has discovered “layers” and “rifts” in the electrically charged part of the upper atmosphere of Mars.', \"NASA's next rover to the Red Planet is slated to launch no earlier than July 30. These highlights will get you up to speed on the ambitious mission.\", 'An electronics issue is suspected to be preventing the sensors from sharing their data about Mars weather with the spacecraft.', 'You have until Sept. 30 to send your names to Mars aboard the Mars 2020 rover. ', \"Jim Bridenstine addresses NASA's ambitious plans for the coming years, including Mars Sample Return.\", \"NASA's Mars InSight mission honored one of the biggest bands of all time at Pasadena concert.\", \"The clean room at NASA's Jet Propulsion Laboratory was open to the media to see NASA's next Mars explorer before it leaves for Florida in preparation for a summertime launch.\", 'Bill Allen has thrived as the mechanical systems design lead for three Mars rover missions, but he got his start as a teenager sorting letters for the NASA center.', 'NASA and the Department of Energy have completed a more detailed risk analysis for the Mars 2020 rover launch from Florida.', 'The twin spacecraft, the first of their kind to fly into deep space, earn a Laureate from Aviation Week & Space Technology.']}\n"
     ]
    }
   ],
   "source": [
    "\n",
    "\n",
    "# Print the list to confirm success\n",
    "print(\"\\n\\nprinting title\\n\\n\")\n",
    "print(title_list) \n",
    "print(\"\\n\\nprinting paragraph\\n\\n\")\n",
    "print(paragraph_list) \n",
    "\n",
    "#creating dictinaory from list\n",
    "mars_news_dict = {'title': title_list,\n",
    "                 'preview': paragraph_list}\n",
    "print(\"\\n\\nprinting dictonary\\n\\n\")\n",
    "print(mars_news_dict) "
   ]
  },
  {
   "cell_type": "markdown",
   "metadata": {},
   "source": [
    "# creating and priting dataframe"
   ]
  },
  {
   "cell_type": "code",
   "execution_count": 12,
   "metadata": {},
   "outputs": [
    {
     "data": {
      "text/html": [
       "<div>\n",
       "<style scoped>\n",
       "    .dataframe tbody tr th:only-of-type {\n",
       "        vertical-align: middle;\n",
       "    }\n",
       "\n",
       "    .dataframe tbody tr th {\n",
       "        vertical-align: top;\n",
       "    }\n",
       "\n",
       "    .dataframe thead th {\n",
       "        text-align: right;\n",
       "    }\n",
       "</style>\n",
       "<table border=\"1\" class=\"dataframe\">\n",
       "  <thead>\n",
       "    <tr style=\"text-align: right;\">\n",
       "      <th></th>\n",
       "      <th>title</th>\n",
       "      <th>preview</th>\n",
       "    </tr>\n",
       "  </thead>\n",
       "  <tbody>\n",
       "    <tr>\n",
       "      <th>0</th>\n",
       "      <td>Nine Finalists Chosen in NASA's Mars 2020 Rove...</td>\n",
       "      <td>Nine finalists have been chosen in the essay c...</td>\n",
       "    </tr>\n",
       "    <tr>\n",
       "      <th>1</th>\n",
       "      <td>A Martian Roundtrip: NASA's Perseverance Rover...</td>\n",
       "      <td>Marvels of engineering, the rover's sample tub...</td>\n",
       "    </tr>\n",
       "    <tr>\n",
       "      <th>2</th>\n",
       "      <td>NASA InSight's 'Mole' Is Out of Sight</td>\n",
       "      <td>Now that the heat probe is just below the Mart...</td>\n",
       "    </tr>\n",
       "    <tr>\n",
       "      <th>3</th>\n",
       "      <td>NASA's Mars Perseverance Rover Passes Flight R...</td>\n",
       "      <td>​The agency's Mars 2020 mission has one more b...</td>\n",
       "    </tr>\n",
       "    <tr>\n",
       "      <th>4</th>\n",
       "      <td>Virginia Middle School Student Earns Honor of ...</td>\n",
       "      <td>NASA chose a seventh-grader from Virginia as w...</td>\n",
       "    </tr>\n",
       "    <tr>\n",
       "      <th>5</th>\n",
       "      <td>NASA's MAVEN Explores Mars to Understand Radio...</td>\n",
       "      <td>NASA’s MAVEN spacecraft has discovered “layers...</td>\n",
       "    </tr>\n",
       "    <tr>\n",
       "      <th>6</th>\n",
       "      <td>7 Things to Know About the Mars 2020 Persevera...</td>\n",
       "      <td>NASA's next rover to the Red Planet is slated ...</td>\n",
       "    </tr>\n",
       "    <tr>\n",
       "      <th>7</th>\n",
       "      <td>NASA Engineers Checking InSight's Weather Sensors</td>\n",
       "      <td>An electronics issue is suspected to be preven...</td>\n",
       "    </tr>\n",
       "    <tr>\n",
       "      <th>8</th>\n",
       "      <td>Deadline Closing for Names to Fly on NASA's Ne...</td>\n",
       "      <td>You have until Sept. 30 to send your names to ...</td>\n",
       "    </tr>\n",
       "    <tr>\n",
       "      <th>9</th>\n",
       "      <td>NASA Administrator Statement on Moon to Mars I...</td>\n",
       "      <td>Jim Bridenstine addresses NASA's ambitious pla...</td>\n",
       "    </tr>\n",
       "    <tr>\n",
       "      <th>10</th>\n",
       "      <td>NASA-JPL Names 'Rolling Stones Rock' on Mars</td>\n",
       "      <td>NASA's Mars InSight mission honored one of the...</td>\n",
       "    </tr>\n",
       "    <tr>\n",
       "      <th>11</th>\n",
       "      <td>Media Get a Close-Up of NASA's Mars 2020 Rover</td>\n",
       "      <td>The clean room at NASA's Jet Propulsion Labora...</td>\n",
       "    </tr>\n",
       "    <tr>\n",
       "      <th>12</th>\n",
       "      <td>From JPL's Mailroom to Mars and Beyond</td>\n",
       "      <td>Bill Allen has thrived as the mechanical syste...</td>\n",
       "    </tr>\n",
       "    <tr>\n",
       "      <th>13</th>\n",
       "      <td>NASA Updates Mars 2020 Mission Environmental R...</td>\n",
       "      <td>NASA and the Department of Energy have complet...</td>\n",
       "    </tr>\n",
       "    <tr>\n",
       "      <th>14</th>\n",
       "      <td>NASA's Briefcase-Size MarCO Satellite Picks Up...</td>\n",
       "      <td>The twin spacecraft, the first of their kind t...</td>\n",
       "    </tr>\n",
       "  </tbody>\n",
       "</table>\n",
       "</div>"
      ],
      "text/plain": [
       "                                                title  \\\n",
       "0   Nine Finalists Chosen in NASA's Mars 2020 Rove...   \n",
       "1   A Martian Roundtrip: NASA's Perseverance Rover...   \n",
       "2               NASA InSight's 'Mole' Is Out of Sight   \n",
       "3   NASA's Mars Perseverance Rover Passes Flight R...   \n",
       "4   Virginia Middle School Student Earns Honor of ...   \n",
       "5   NASA's MAVEN Explores Mars to Understand Radio...   \n",
       "6   7 Things to Know About the Mars 2020 Persevera...   \n",
       "7   NASA Engineers Checking InSight's Weather Sensors   \n",
       "8   Deadline Closing for Names to Fly on NASA's Ne...   \n",
       "9   NASA Administrator Statement on Moon to Mars I...   \n",
       "10       NASA-JPL Names 'Rolling Stones Rock' on Mars   \n",
       "11     Media Get a Close-Up of NASA's Mars 2020 Rover   \n",
       "12             From JPL's Mailroom to Mars and Beyond   \n",
       "13  NASA Updates Mars 2020 Mission Environmental R...   \n",
       "14  NASA's Briefcase-Size MarCO Satellite Picks Up...   \n",
       "\n",
       "                                              preview  \n",
       "0   Nine finalists have been chosen in the essay c...  \n",
       "1   Marvels of engineering, the rover's sample tub...  \n",
       "2   Now that the heat probe is just below the Mart...  \n",
       "3   ​The agency's Mars 2020 mission has one more b...  \n",
       "4   NASA chose a seventh-grader from Virginia as w...  \n",
       "5   NASA’s MAVEN spacecraft has discovered “layers...  \n",
       "6   NASA's next rover to the Red Planet is slated ...  \n",
       "7   An electronics issue is suspected to be preven...  \n",
       "8   You have until Sept. 30 to send your names to ...  \n",
       "9   Jim Bridenstine addresses NASA's ambitious pla...  \n",
       "10  NASA's Mars InSight mission honored one of the...  \n",
       "11  The clean room at NASA's Jet Propulsion Labora...  \n",
       "12  Bill Allen has thrived as the mechanical syste...  \n",
       "13  NASA and the Department of Energy have complet...  \n",
       "14  The twin spacecraft, the first of their kind t...  "
      ]
     },
     "execution_count": 12,
     "metadata": {},
     "output_type": "execute_result"
    }
   ],
   "source": [
    "#creating dataframe\n",
    "mars_news_df = pd.DataFrame.from_dict(mars_news_dict)\n",
    "mars_news_df"
   ]
  },
  {
   "cell_type": "code",
   "execution_count": 13,
   "metadata": {},
   "outputs": [],
   "source": [
    "browser.quit()"
   ]
  },
  {
   "cell_type": "markdown",
   "metadata": {},
   "source": [
    "### (Optional) Step 4: Export the Data\n",
    "\n",
    "Optionally, store the scraped data in a file or database (to ease sharing the data with others). To do so, export the scraped data to either a JSON file or a MongoDB database."
   ]
  },
  {
   "cell_type": "code",
   "execution_count": 14,
   "metadata": {},
   "outputs": [],
   "source": [
    "# Export data to JSON\n"
   ]
  },
  {
   "cell_type": "code",
   "execution_count": 15,
   "metadata": {},
   "outputs": [],
   "source": [
    "# Export data to MongoDB\n"
   ]
  }
 ],
 "metadata": {
  "kernelspec": {
   "display_name": "Python 3 (ipykernel)",
   "language": "python",
   "name": "python3"
  },
  "language_info": {
   "codemirror_mode": {
    "name": "ipython",
    "version": 3
   },
   "file_extension": ".py",
   "mimetype": "text/x-python",
   "name": "python",
   "nbconvert_exporter": "python",
   "pygments_lexer": "ipython3",
   "version": "3.9.12"
  }
 },
 "nbformat": 4,
 "nbformat_minor": 4
}
